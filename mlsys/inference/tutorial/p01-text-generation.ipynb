{
 "cells": [
  {
   "cell_type": "markdown",
   "id": "0b850cd9",
   "metadata": {},
   "source": [
    "### P01 - Text Generation with LLM"
   ]
  },
  {
   "cell_type": "markdown",
   "id": "130b83d4",
   "metadata": {},
   "source": [
    "This notebook will cover:\n",
    "1. How to load an LLM from HuggingFace?\n",
    "2. How to generate a token from the model output tensors?\n",
    "3. Prefill and decode: optimizing token generation over multiple steps"
   ]
  },
  {
   "cell_type": "markdown",
   "id": "355d0908-936e-411e-b7ab-0bad3c0d8bba",
   "metadata": {},
   "source": [
    "#### Import required packages"
   ]
  },
  {
   "cell_type": "code",
   "execution_count": 34,
   "id": "d63d6a13-d807-4287-ac43-82c1a760a963",
   "metadata": {
    "height": 98
   },
   "outputs": [],
   "source": [
    "import matplotlib.pyplot as plt\n",
    "import time\n",
    "import torch\n",
    "from transformers import AutoModelForCausalLM, AutoTokenizer"
   ]
  },
  {
   "cell_type": "markdown",
   "id": "c49df59a",
   "metadata": {},
   "source": [
    "#### Load an LLM from HuggingFace"
   ]
  },
  {
   "cell_type": "code",
   "execution_count": 2,
   "id": "921474e8-e424-4a59-8a3c-bcea49690133",
   "metadata": {
    "height": 64
   },
   "outputs": [],
   "source": [
    "# create model and tokenizer\n",
    "model_name = \"./models/gpt2\"\n",
    "tokenizer = AutoTokenizer.from_pretrained(model_name)\n",
    "model = AutoModelForCausalLM.from_pretrained(model_name)"
   ]
  },
  {
   "cell_type": "code",
   "execution_count": 3,
   "id": "b2412d3e-7ee2-4362-adb2-2f434d6f2416",
   "metadata": {
    "height": 30
   },
   "outputs": [
    {
     "name": "stdout",
     "output_type": "stream",
     "text": [
      "<class 'transformers.models.gpt2.modeling_gpt2.GPT2LMHeadModel'>\n",
      "GPT2LMHeadModel(\n",
      "  (transformer): GPT2Model(\n",
      "    (wte): Embedding(50257, 768)\n",
      "    (wpe): Embedding(1024, 768)\n",
      "    (drop): Dropout(p=0.1, inplace=False)\n",
      "    (h): ModuleList(\n",
      "      (0-11): 12 x GPT2Block(\n",
      "        (ln_1): LayerNorm((768,), eps=1e-05, elementwise_affine=True)\n",
      "        (attn): GPT2Attention(\n",
      "          (c_attn): Conv1D()\n",
      "          (c_proj): Conv1D()\n",
      "          (attn_dropout): Dropout(p=0.1, inplace=False)\n",
      "          (resid_dropout): Dropout(p=0.1, inplace=False)\n",
      "        )\n",
      "        (ln_2): LayerNorm((768,), eps=1e-05, elementwise_affine=True)\n",
      "        (mlp): GPT2MLP(\n",
      "          (c_fc): Conv1D()\n",
      "          (c_proj): Conv1D()\n",
      "          (act): NewGELUActivation()\n",
      "          (dropout): Dropout(p=0.1, inplace=False)\n",
      "        )\n",
      "      )\n",
      "    )\n",
      "    (ln_f): LayerNorm((768,), eps=1e-05, elementwise_affine=True)\n",
      "  )\n",
      "  (lm_head): Linear(in_features=768, out_features=50257, bias=False)\n",
      ")\n",
      "cuda:0\n"
     ]
    }
   ],
   "source": [
    "# check model architecture\n",
    "print(type(model))\n",
    "print(model)\n",
    "model.to(\"cuda\")\n",
    "print(model.device)"
   ]
  },
  {
   "cell_type": "code",
   "execution_count": 4,
   "id": "d8d20ea8",
   "metadata": {},
   "outputs": [
    {
     "name": "stdout",
     "output_type": "stream",
     "text": [
      "<class 'transformers.models.gpt2.tokenization_gpt2_fast.GPT2TokenizerFast'>\n",
      "vocab size: 50257\n"
     ]
    }
   ],
   "source": [
    "# check tokenizer\n",
    "print(type(tokenizer))\n",
    "print(f\"vocab size: {tokenizer.vocab_size}\")"
   ]
  },
  {
   "cell_type": "markdown",
   "id": "64648331-8f55-4150-929e-4e7a3a76e305",
   "metadata": {},
   "source": [
    "#### Generate a token from the model output tensors"
   ]
  },
  {
   "cell_type": "code",
   "execution_count": 5,
   "id": "c94d8b4b-13ea-42ad-917b-54974c9cdbd0",
   "metadata": {
    "height": 64
   },
   "outputs": [
    {
     "name": "stdout",
     "output_type": "stream",
     "text": [
      "<class 'transformers.tokenization_utils_base.BatchEncoding'>\n",
      "input_ids: torch.Size([1, 7]): tensor([[  464,  2068,  7586, 21831, 11687,   625,   262]], device='cuda:0')\n",
      "attention_mask: torch.Size([1, 7]): tensor([[1, 1, 1, 1, 1, 1, 1]], device='cuda:0')\n",
      "The quick brown fox jumped over the\n"
     ]
    }
   ],
   "source": [
    "# tokenize input\n",
    "prompt = \"The quick brown fox jumped over the\"\n",
    "inputs = tokenizer(prompt, return_tensors=\"pt\").to(\"cuda\")\n",
    "print(type(inputs))\n",
    "for k,v in inputs.items():\n",
    "    print(f\"{k}: {v.shape}: {v}\")\n",
    "print(tokenizer.decode(inputs[\"input_ids\"][0]))"
   ]
  },
  {
   "cell_type": "code",
   "execution_count": 6,
   "id": "794b0abd-1940-4cb7-902e-9f9d83ec52bd",
   "metadata": {
    "height": 98
   },
   "outputs": [
    {
     "name": "stdout",
     "output_type": "stream",
     "text": [
      "torch.Size([1, 7, 50257])\n"
     ]
    }
   ],
   "source": [
    "# execute a forward pass\n",
    "with torch.no_grad():\n",
    "    # unpack inputs dict and pass as keyword arguments\n",
    "    outputs = model(**inputs)\n",
    "\n",
    "logits = outputs.logits\n",
    "print(logits.shape)"
   ]
  },
  {
   "cell_type": "code",
   "execution_count": 7,
   "id": "58ae92b3-200e-470b-b107-559ee4b4e503",
   "metadata": {
    "height": 64
   },
   "outputs": [
    {
     "name": "stdout",
     "output_type": "stream",
     "text": [
      "torch.Size([50257])\n",
      "tensor(13990, device='cuda:0')\n"
     ]
    },
    {
     "data": {
      "text/plain": [
       "' fence'"
      ]
     },
     "execution_count": 7,
     "metadata": {},
     "output_type": "execute_result"
    }
   ],
   "source": [
    "# get the most likely next token\n",
    "last_logits = logits[0, -1, :]\n",
    "print(last_logits.shape)\n",
    "next_token_id = last_logits.argmax()\n",
    "print(next_token_id)\n",
    "tokenizer.decode(next_token_id)"
   ]
  },
  {
   "cell_type": "code",
   "execution_count": 8,
   "id": "5dc39fa7-57c9-4ad2-a18f-58e64f380f9a",
   "metadata": {
    "height": 64
   },
   "outputs": [
    {
     "name": "stdout",
     "output_type": "stream",
     "text": [
      " fence, edge, railing, wall, table, tree, top, counter, ground, side\n"
     ]
    }
   ],
   "source": [
    "# get the 10 most likely next tokens\n",
    "top_k = torch.topk(last_logits, k=10)\n",
    "tokens = [tokenizer.decode(tk) for tk in top_k.indices]\n",
    "print(\",\".join(tokens))"
   ]
  },
  {
   "cell_type": "code",
   "execution_count": 9,
   "id": "f8aabe35-efbe-439c-9284-1407fc0b2cab",
   "metadata": {
    "height": 183
   },
   "outputs": [
    {
     "name": "stdout",
     "output_type": "stream",
     "text": [
      "concat torch.Size([1, 7]) and torch.Size([1, 1])\n",
      "next inputs: torch.Size([1, 8])\n"
     ]
    }
   ],
   "source": [
    "# construct next input\n",
    "print(f\"concat {inputs['input_ids'].shape} and {next_token_id.reshape((1, 1)).shape}\")\n",
    "next_inputs = {\n",
    "    \"input_ids\": torch.cat(\n",
    "        [inputs[\"input_ids\"], next_token_id.reshape((1, 1))],\n",
    "        dim=1\n",
    "    ),\n",
    "    \"attention_mask\": torch.cat(\n",
    "        [inputs[\"attention_mask\"], torch.tensor([[1]], device=\"cuda\")],\n",
    "        dim=1\n",
    "    ),\n",
    "}\n",
    "print(f\"next inputs: {next_inputs['input_ids'].shape}\")"
   ]
  },
  {
   "cell_type": "markdown",
   "id": "c74fb045",
   "metadata": {},
   "source": [
    "#### Baseline"
   ]
  },
  {
   "cell_type": "code",
   "execution_count": 10,
   "id": "0a4605d3-1506-4b80-a6b9-b2e8d5ccea72",
   "metadata": {
    "height": 149
   },
   "outputs": [],
   "source": [
    "def generate_token(inputs):\n",
    "    with torch.no_grad():\n",
    "        outputs = model(**inputs)\n",
    "    logits = outputs.logits\n",
    "    last_logits = logits[0, -1, :]\n",
    "    next_token_id = last_logits.argmax()\n",
    "    return next_token_id"
   ]
  },
  {
   "cell_type": "code",
   "execution_count": 26,
   "id": "e8312f1a-9a24-4206-8878-022a4db7d5ed",
   "metadata": {
    "height": 387
   },
   "outputs": [
    {
     "name": "stdout",
     "output_type": "stream",
     "text": [
      "Total time to generate 10 tokens: 56.84232711791992 ms\n",
      "The quick brown fox jumped over the\n",
      "[' fence', ' and', ' ran', ' to', ' the', ' other', ' side', ' of', ' the', ' fence']\n"
     ]
    },
    {
     "data": {
      "image/png": "[encoded data removed]",
      "text/plain": [
       "<Figure size 640x480 with 1 Axes>"
      ]
     },
     "metadata": {},
     "output_type": "display_data"
    }
   ],
   "source": [
    "# measure time to generate 10 tokens\n",
    "count = 10\n",
    "target_device = \"cuda\"\n",
    "# target_device = \"cpu\"\n",
    "\n",
    "generated_tokens = []\n",
    "model = model.to(target_device)\n",
    "next_inputs = inputs.to(target_device)\n",
    "durations_ms = []\n",
    "for _ in range(count):\n",
    "    t0 = time.time()\n",
    "    next_token_id = generate_token(next_inputs)\n",
    "    durations_ms += [(time.time() - t0) * 1e3]\n",
    "    \n",
    "    next_inputs = {\n",
    "        \"input_ids\": torch.cat(\n",
    "            [next_inputs[\"input_ids\"], next_token_id.reshape((1, 1))],\n",
    "            dim=1),\n",
    "        \"attention_mask\": torch.cat(\n",
    "            [next_inputs[\"attention_mask\"], torch.tensor([[1]], device=target_device)],\n",
    "            dim=1),\n",
    "    }\n",
    "    \n",
    "    next_token = tokenizer.decode(next_token_id)\n",
    "    generated_tokens.append(next_token)\n",
    "\n",
    "print(f\"Total time to generate {count} tokens: {sum(durations_ms)} ms\")\n",
    "print(prompt)\n",
    "print(generated_tokens)\n",
    "# plot durations\n",
    "plt.plot(durations_ms)\n",
    "plt.show()"
   ]
  },
  {
   "cell_type": "markdown",
   "id": "112221a8-0172-43a8-a6b8-b1fd6aa0fae1",
   "metadata": {},
   "source": [
    "#### KV-cache"
   ]
  },
  {
   "cell_type": "code",
   "execution_count": 12,
   "id": "a3f6fab4-c3ca-4efa-9533-2915667e5058",
   "metadata": {
    "height": 149
   },
   "outputs": [],
   "source": [
    "def generate_token_with_past(inputs):\n",
    "    with torch.no_grad():\n",
    "        outputs = model(**inputs)\n",
    "    logits = outputs.logits\n",
    "    last_logits = logits[0, -1, :]\n",
    "    next_token_id = last_logits.argmax()\n",
    "    # also return past key/value\n",
    "    return next_token_id, outputs.past_key_values"
   ]
  },
  {
   "cell_type": "code",
   "execution_count": 13,
   "id": "8e1e1f74",
   "metadata": {},
   "outputs": [],
   "source": [
    "# shape: batch_size, num_heads, seq_len, head_dim\n",
    "def print_past_key_values_shapes(past_key_values):\n",
    "    if past_key_values is not None:\n",
    "        for i, layer_past in enumerate(past_key_values):\n",
    "            if i > 0:\n",
    "                break\n",
    "            print(f\"Layer {i} key shape: {layer_past[0].shape}, value shape: {layer_past[1].shape}\")"
   ]
  },
  {
   "cell_type": "code",
   "execution_count": 33,
   "id": "98bb1897",
   "metadata": {
    "height": 387
   },
   "outputs": [
    {
     "name": "stdout",
     "output_type": "stream",
     "text": [
      "55.60016632080078 ms\n",
      "[' fence', ' and', ' ran', ' to', ' the', ' other', ' side', ' of', ' the', ' fence']\n"
     ]
    },
    {
     "data": {
      "image/png": "[encoded data removed]",
      "text/plain": [
       "<Figure size 640x480 with 1 Axes>"
      ]
     },
     "metadata": {},
     "output_type": "display_data"
    }
   ],
   "source": [
    "count = 10\n",
    "target_device = \"cuda\"\n",
    "# target_device = \"cpu\"\n",
    "\n",
    "generated_tokens = []\n",
    "next_inputs = inputs.to(target_device)\n",
    "durations_cached_ms = []\n",
    "for _ in range(count):\n",
    "    t0 = time.time()\n",
    "    next_token_id, past_key_values = generate_token_with_past(next_inputs)\n",
    "    durations_cached_ms += [(time.time() - t0) * 1e3]\n",
    "    # print_past_key_values_shapes(past_key_values)\n",
    "    next_inputs = {\n",
    "        \"input_ids\": next_token_id.reshape((1, 1)),\n",
    "        \"attention_mask\": torch.cat(\n",
    "            [next_inputs[\"attention_mask\"], torch.tensor([[1]]).to(target_device)],\n",
    "            dim=1),\n",
    "        \"past_key_values\": past_key_values,\n",
    "    }\n",
    "    next_token = tokenizer.decode(next_token_id)\n",
    "    generated_tokens.append(next_token)\n",
    "\n",
    "print(f\"{sum(durations_cached_ms)} ms\")\n",
    "print(generated_tokens)\n",
    "\n",
    "# plot durations\n",
    "plt.plot(durations_ms)\n",
    "plt.plot(durations_cached_ms)\n",
    "plt.show()"
   ]
  }
 ],
 "metadata": {
  "kernelspec": {
   "display_name": "Python 3 (ipykernel)",
   "language": "python",
   "name": "python3"
  },
  "language_info": {
   "codemirror_mode": {
    "name": "ipython",
    "version": 3
   },
   "file_extension": ".py",
   "mimetype": "text/x-python",
   "name": "python",
   "nbconvert_exporter": "python",
   "pygments_lexer": "ipython3",
   "version": "3.10.14"
  }
 },
 "nbformat": 4,
 "nbformat_minor": 5
}
